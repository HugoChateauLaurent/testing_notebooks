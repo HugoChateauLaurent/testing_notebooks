{
 "cells": [
  {
   "cell_type": "code",
   "execution_count": 1,
   "metadata": {
    "collapsed": true
   },
   "outputs": [],
   "source": [
    "%matplotlib inline\n",
    "import nengo\n",
    "import numpy as np\n",
    "import pylab"
   ]
  },
  {
   "cell_type": "code",
   "execution_count": 40,
   "metadata": {
    "collapsed": false
   },
   "outputs": [],
   "source": [
    "model = nengo.Network()\n",
    "with model:\n",
    "    stim = nengo.Node([0.5])\n",
    "    stim_attend = nengo.Node([0.5])\n",
    "    \n",
    "    n_neurons = 50\n",
    "    dendrites = nengo.networks.EnsembleArray(n_neurons=100, ens_dimensions=2, n_ensembles=n_neurons)\n",
    "    encoders = nengo.dists.UniformHypersphere(surface=True).sample(n_neurons, d=1)\n",
    "    ens = nengo.Ensemble(n_neurons=n_neurons, dimensions=1, encoders=encoders)\n",
    "    for i in range(n_neurons):\n",
    "        dendrites.ensembles[i].neuron_type = nengo.Sigmoid()\n",
    "        nengo.Connection(stim, dendrites.ensembles[i][0])\n",
    "        nengo.Connection(stim_attend, dendrites.ensembles[i][1])\n",
    "        def product(x):\n",
    "            return x[0]*x[1]\n",
    "        conn = nengo.Connection(dendrites.ensembles[i], ens.neurons[i], function=product, transform=encoders[i])\n",
    "    p = nengo.Probe(ens, synapse=0.03)    "
   ]
  },
  {
   "cell_type": "code",
   "execution_count": 41,
   "metadata": {
    "collapsed": false
   },
   "outputs": [
    {
     "name": "stdout",
     "output_type": "stream",
     "text": [
      "Simulation finished in 0:00:06.                                                 \n"
     ]
    }
   ],
   "source": [
    "sim = nengo.Simulator(model)\n",
    "sim.run(1)"
   ]
  },
  {
   "cell_type": "code",
   "execution_count": 42,
   "metadata": {
    "collapsed": false
   },
   "outputs": [
    {
     "data": {
      "text/plain": [
       "[<matplotlib.lines.Line2D at 0x104b3b70>]"
      ]
     },
     "execution_count": 42,
     "metadata": {},
     "output_type": "execute_result"
    },
    {
     "data": {
      "image/png": "[encoded data removed]",
      "text/plain": [
       "<matplotlib.figure.Figure at 0x104e4160>"
      ]
     },
     "metadata": {},
     "output_type": "display_data"
    }
   ],
   "source": [
    "pylab.plot(sim.trange(), sim.data[p])"
   ]
  },
  {
   "cell_type": "code",
   "execution_count": null,
   "metadata": {
    "collapsed": true
   },
   "outputs": [],
   "source": []
  }
 ],
 "metadata": {
  "kernelspec": {
   "display_name": "Python 2",
   "language": "python",
   "name": "python2"
  },
  "language_info": {
   "codemirror_mode": {
    "name": "ipython",
    "version": 2
   },
   "file_extension": ".py",
   "mimetype": "text/x-python",
   "name": "python",
   "nbconvert_exporter": "python",
   "pygments_lexer": "ipython2",
   "version": "2.7.5"
  }
 },
 "nbformat": 4,
 "nbformat_minor": 0
}
