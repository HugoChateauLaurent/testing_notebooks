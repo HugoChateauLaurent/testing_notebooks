{
 "cells": [
  {
   "cell_type": "code",
   "execution_count": 1,
   "metadata": {
    "collapsed": true
   },
   "outputs": [],
   "source": [
    "%matplotlib inline\n",
    "import nengo.spa as spa\n",
    "import numpy as np\n",
    "import matplotlib.pyplot as plt"
   ]
  },
  {
   "cell_type": "markdown",
   "metadata": {},
   "source": [
    "First, here's the SPA power function:"
   ]
  },
  {
   "cell_type": "code",
   "execution_count": 2,
   "metadata": {
    "collapsed": true
   },
   "outputs": [],
   "source": [
    "def power(s, e):\n",
    "    x = np.fft.ifft(np.fft.fft(s.v) ** e).real\n",
    "    return spa.SemanticPointer(data=x)\n"
   ]
  },
  {
   "cell_type": "markdown",
   "metadata": {},
   "source": [
    "Here are two helper functions for computing the dot product over space, and for plotting the results"
   ]
  },
  {
   "cell_type": "code",
   "execution_count": 3,
   "metadata": {
    "collapsed": true
   },
   "outputs": [],
   "source": [
    "def spatial_dot(v, X, Y, xs, ys, transform=1):\n",
    "    vs = np.zeros((len(ys),len(xs)))\n",
    "    for i,x in enumerate(xs):\n",
    "        for j, y in enumerate(ys):\n",
    "            t = power(X, x)*power(Y,y)*transform\n",
    "            vs[j,i] = np.dot(v.v, t.v)\n",
    "    return vs\n",
    "\n",
    "def spatial_plot(vs):\n",
    "    vs = vs[::-1, :]\n",
    "    plt.imshow(vs, interpolation='none', extent=(xs[0],xs[-1],ys[0],ys[-1]), vmax=1, vmin=-1, cmap='plasma')\n",
    "    plt.colorbar()\n",
    "        "
   ]
  },
  {
   "cell_type": "markdown",
   "metadata": {},
   "source": [
    "Let's do a quick example of using the above functions to represent two items at (2,1.3) and (0,0.7)"
   ]
  },
  {
   "cell_type": "code",
   "execution_count": 4,
   "metadata": {},
   "outputs": [
    {
     "data": {
      "image/png": "[encoded data removed]",
      "text/plain": [
       "<matplotlib.figure.Figure at 0x1e74aa21668>"
      ]
     },
     "metadata": {},
     "output_type": "display_data"
    }
   ],
   "source": [
    "D = 64\n",
    "X = spa.SemanticPointer(D)\n",
    "X.make_unitary()\n",
    "Y = spa.SemanticPointer(D)\n",
    "Y.make_unitary()\n",
    "xs = np.linspace(-3, 3, 20)\n",
    "ys = np.linspace(-3, 3, 20)\n",
    "\n",
    "\n",
    "v = power(X,2)*power(Y,1.3) + power(X,0)*power(Y,0.7)\n",
    "vs = spatial_dot(v, X, Y, xs, ys)\n",
    "spatial_plot(vs)"
   ]
  },
  {
   "cell_type": "markdown",
   "metadata": {},
   "source": [
    "So, that lets us take a vector and turn it into a spatial map.  Now let's try going the other way around: specify a desired map, and find the vector that gives that."
   ]
  },
  {
   "cell_type": "code",
   "execution_count": 5,
   "metadata": {},
   "outputs": [
    {
     "data": {
      "image/png": "[encoded data removed]",
      "text/plain": [
       "<matplotlib.figure.Figure at 0x1e74ab43b70>"
      ]
     },
     "metadata": {},
     "output_type": "display_data"
    }
   ],
   "source": [
    "desired = np.zeros((len(xs),len(ys)))\n",
    "for i,x in enumerate(xs):\n",
    "    for j, y in enumerate(ys):\n",
    "        if 0<x<2 and -1<y<=3:\n",
    "            val = 1\n",
    "        else:\n",
    "            val = 0\n",
    "        desired[j, i] = val\n",
    "        \n",
    "spatial_plot(desired)\n"
   ]
  },
  {
   "cell_type": "markdown",
   "metadata": {},
   "source": [
    "Let's just treat this as an optimization problem.  It's fairly high-dimensional, so let's throw a genetic algorithm at it."
   ]
  },
  {
   "cell_type": "code",
   "execution_count": 6,
   "metadata": {
    "scrolled": false
   },
   "outputs": [],
   "source": [
    "import scipy.optimize\n",
    "\n",
    "def find_v(desired, X, Y, xs, ys, transform=1):    \n",
    "    bounds = np.array([-np.ones_like(X.v), np.ones_like(X.v)]).T\n",
    "    \n",
    "    def objective(v):\n",
    "        vs = spatial_dot(spa.SemanticPointer(data=v), X, Y, xs, ys, transform=transform)\n",
    "        rmse = np.sqrt(np.mean((vs-desired)**2))\n",
    "        return rmse\n",
    "    result = scipy.optimize.differential_evolution(objective, maxiter=3, bounds=bounds)    \n",
    "    return spa.SemanticPointer(data=result.x)\n",
    "    \n",
    "v = find_v(desired, X, Y, xs, ys)\n"
   ]
  },
  {
   "cell_type": "markdown",
   "metadata": {},
   "source": [
    "That takes a while to run....\n",
    "\n",
    "How well did it do?"
   ]
  },
  {
   "cell_type": "code",
   "execution_count": 7,
   "metadata": {},
   "outputs": [
    {
     "name": "stdout",
     "output_type": "stream",
     "text": [
      "0.15142859457280508\n"
     ]
    }
   ],
   "source": [
    "vs = spatial_dot(v, X, Y, xs, ys)\n",
    "rmse = np.sqrt(np.mean((vs-desired)**2))\n",
    "print(rmse)"
   ]
  },
  {
   "cell_type": "code",
   "execution_count": 8,
   "metadata": {},
   "outputs": [
    {
     "data": {
      "image/png": "[encoded data removed]",
      "text/plain": [
       "<matplotlib.figure.Figure at 0x1e73a257470>"
      ]
     },
     "metadata": {},
     "output_type": "display_data"
    }
   ],
   "source": [
    "spatial_plot(spatial_dot(v, X, Y, xs, ys))"
   ]
  },
  {
   "cell_type": "markdown",
   "metadata": {},
   "source": [
    "Yay!"
   ]
  },
  {
   "cell_type": "code",
   "execution_count": null,
   "metadata": {
    "collapsed": true
   },
   "outputs": [],
   "source": []
  }
 ],
 "metadata": {
  "kernelspec": {
   "display_name": "Python 3",
   "language": "python",
   "name": "python3"
  },
  "language_info": {
   "codemirror_mode": {
    "name": "ipython",
    "version": 3
   },
   "file_extension": ".py",
   "mimetype": "text/x-python",
   "name": "python",
   "nbconvert_exporter": "python",
   "pygments_lexer": "ipython3",
   "version": "3.6.1"
  }
 },
 "nbformat": 4,
 "nbformat_minor": 2
}
