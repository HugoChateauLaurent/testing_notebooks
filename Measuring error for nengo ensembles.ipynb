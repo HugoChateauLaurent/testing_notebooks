{
 "metadata": {
  "name": ""
 },
 "nbformat": 3,
 "nbformat_minor": 0,
 "worksheets": [
  {
   "cells": [
    {
     "cell_type": "code",
     "collapsed": false,
     "input": [
      "import nengo\n",
      "\n",
      "model = nengo.Network()\n",
      "with model:\n",
      "    a = nengo.Ensemble(n_neurons=100, dimensions=2)\n",
      "    b = nengo.Ensemble(n_neurons=100, dimensions=2)\n",
      "    conn = nengo.Connection(a, b, function=lambda x: x**2)\n",
      "    \n",
      "sim = nengo.Simulator(model)"
     ],
     "language": "python",
     "metadata": {},
     "outputs": [],
     "prompt_number": 1
    },
    {
     "cell_type": "code",
     "collapsed": false,
     "input": [
      "print sim.model.params[conn].solver_info['rmses']\n"
     ],
     "language": "python",
     "metadata": {},
     "outputs": [
      {
       "output_type": "stream",
       "stream": "stdout",
       "text": [
        "[ 0.03764581  0.03546312]\n"
       ]
      }
     ],
     "prompt_number": 2
    },
    {
     "cell_type": "code",
     "collapsed": false,
     "input": [],
     "language": "python",
     "metadata": {},
     "outputs": []
    }
   ],
   "metadata": {}
  }
 ]
}