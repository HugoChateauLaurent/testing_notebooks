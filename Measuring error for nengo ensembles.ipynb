{
 "metadata": {
  "name": ""
 },
 "nbformat": 3,
 "nbformat_minor": 0,
 "worksheets": [
  {
   "cells": [
    {
     "cell_type": "code",
     "collapsed": false,
     "input": [
      "import nengo\n",
      "\n",
      "model = nengo.Network()\n",
      "with model:\n",
      "    a = nengo.Ensemble(n_neurons=100, dimensions=2)\n",
      "    b = nengo.Ensemble(n_neurons=100, dimensions=2)\n",
      "    conn = nengo.Connection(a, b)\n",
      "    \n",
      "sim = nengo.Simulator(model)"
     ],
     "language": "python",
     "metadata": {},
     "outputs": [],
     "prompt_number": 10
    },
    {
     "cell_type": "code",
     "collapsed": false,
     "input": [
      "print sim.model.params[conn].solver_info['rmses']\n"
     ],
     "language": "python",
     "metadata": {},
     "outputs": [
      {
       "output_type": "stream",
       "stream": "stdout",
       "text": [
        "[ 0.01492033  0.01415511]\n"
       ]
      }
     ],
     "prompt_number": 12
    },
    {
     "cell_type": "code",
     "collapsed": false,
     "input": [],
     "language": "python",
     "metadata": {},
     "outputs": []
    }
   ],
   "metadata": {}
  }
 ]
}