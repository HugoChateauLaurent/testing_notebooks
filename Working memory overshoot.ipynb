{
 "cells": [
  {
   "cell_type": "code",
   "execution_count": 2,
   "metadata": {
    "collapsed": true
   },
   "outputs": [],
   "source": [
    "%matplotlib inline\n",
    "import pylab\n",
    "import numpy as np\n",
    "import nengo\n",
    "import nengo.spa as spa\n"
   ]
  },
  {
   "cell_type": "markdown",
   "metadata": {},
   "source": [
    "The goal here is to make a model where you put something into working memory, then leave it there for a while, and then clear the working memory.  When people do this in real brains, they get this sort of effect\n",
    "\n",
    "<img src=http://jn.physiology.org/content/jn/91/3/1424/F12.medium.gif/>\n",
    "\n",
    "(Source: https://jn.physiology.org/content/91/3/1424 )\n",
    "\n",
    "Let's try to model this as a high-dimensional integrator, an input, and some inhibition to shut it off at the end."
   ]
  },
  {
   "cell_type": "code",
   "execution_count": 3,
   "metadata": {
    "collapsed": false
   },
   "outputs": [],
   "source": [
    "dimensions = 10\n",
    "input_scale = 1\n",
    "n_neurons_per_dim = 50\n",
    "intercept_low = -0.5\n",
    "intercept_high = 1.0\n",
    "tau_input = 0.01\n",
    "tau_recurrent = 0.1\n",
    "tau_reset = 0.2\n",
    "max_rate_high = 200\n",
    "max_rate_low = 150\n",
    "sensory_delay = 0.05\n",
    "reset_scale = 0.3\n",
    "\n",
    "model = nengo.Network()\n",
    "with model:\n",
    "    vocab = spa.Vocabulary(dimensions)\n",
    "    value = vocab.parse('A').v\n",
    "    \n",
    "    def stim(t):\n",
    "        if 0.5 < t - sensory_delay < 0.75:\n",
    "            return value\n",
    "        else:\n",
    "            return [0]*dimensions\n",
    "    stim = nengo.Node(stim)\n",
    "    \n",
    "    a = nengo.Ensemble(n_neurons=n_neurons_per_dim * dimensions,\n",
    "                       dimensions=dimensions,\n",
    "                       max_rates=nengo.dists.Uniform(max_rate_low, max_rate_high),\n",
    "                       intercepts=nengo.dists.Uniform(intercept_low, intercept_high))\n",
    "    \n",
    "    b = nengo.Ensemble(n_neurons=n_neurons_per_dim * dimensions,\n",
    "                       dimensions=dimensions,\n",
    "                       max_rates=nengo.dists.Uniform(max_rate_low, max_rate_high),\n",
    "                       intercepts=nengo.dists.Uniform(intercept_low, intercept_high))\n",
    "    \n",
    "    nengo.Connection(stim, a, synapse=None)\n",
    "    nengo.Connection(a, b, synapse=tau_input, transform=input_scale)\n",
    "    nengo.Connection(b, b, synapse=tau_recurrent)\n",
    "    \n",
    "    def reset(t):\n",
    "        if t - sensory_delay > 1.75:\n",
    "            return 1\n",
    "        else:\n",
    "            return 0\n",
    "    reset_stim = nengo.Node(reset)\n",
    "    reset_value = vocab.parse('B').v\n",
    "    reset_value.shape = dimensions, 1\n",
    "    nengo.Connection(reset_stim, b.neurons, transform=np.ones((b.n_neurons, 1))*-reset_scale, synapse=tau_reset)\n",
    "    #nengo.Connection(reset_stim, b, transform=reset_value*reset_scale, synapse=tau_reset)\n",
    "    \n",
    "    p_value = nengo.Probe(b, synapse=0.01)\n",
    "    p_neurons = nengo.Probe(b.neurons)"
   ]
  },
  {
   "cell_type": "code",
   "execution_count": 4,
   "metadata": {
    "collapsed": false
   },
   "outputs": [
    {
     "name": "stdout",
     "output_type": "stream",
     "text": [
      "\r",
      "Simulation finished in 0:00:02.                                                 \r\n"
     ]
    }
   ],
   "source": [
    "sim = nengo.Simulator(model)\n",
    "sim.run(2.5)"
   ]
  },
  {
   "cell_type": "markdown",
   "metadata": {},
   "source": [
    "Here is the plot of the average firing rate across all the neurons"
   ]
  },
  {
   "cell_type": "code",
   "execution_count": 5,
   "metadata": {
    "collapsed": false
   },
   "outputs": [
    {
     "data": {
      "image/png": "[encoded data removed]",
      "text/plain": [
       "<matplotlib.figure.Figure at 0x9dc3dd8>"
      ]
     },
     "metadata": {},
     "output_type": "display_data"
    }
   ],
   "source": [
    "rates = sim.data[p_neurons]\n",
    "ratesf = nengo.synapses.Lowpass(0.05).filt(rates)\n",
    "\n",
    "pylab.plot(sim.trange(), np.mean(ratesf, axis=1))\n",
    "pylab.axvline(0.5)\n",
    "pylab.axvline(0.75)\n",
    "pylab.axvline(1.75)\n",
    "pylab.show()"
   ]
  },
  {
   "cell_type": "markdown",
   "metadata": {},
   "source": [
    "But that's across all the neurons.  In the empirical data we're comparing to, it looks like they only selected neurons that are preferentially active for that stimulus.  This corresponds to the dot product between the encoder and the actual value being greater than zero.\n",
    "\n",
    "However, the threshold probably shouldn't be exactly zero, as that would include a whole bunch of neurons that only just barely are preferentially active for the stimulus, and which probably wouldn't even be statistically determined to be preferentially active given the recording time.  So we probably need to do some sort of higher threshold.  But I don't know what it should be."
   ]
  },
  {
   "cell_type": "code",
   "execution_count": 6,
   "metadata": {
    "collapsed": false
   },
   "outputs": [
    {
     "name": "stdout",
     "output_type": "stream",
     "text": [
      "N= 249\n"
     ]
    },
    {
     "data": {
      "image/png": "[encoded data removed]",
      "text/plain": [
       "<matplotlib.figure.Figure at 0x9dc3ac8>"
      ]
     },
     "metadata": {},
     "output_type": "display_data"
    }
   ],
   "source": [
    "encs = sim.data[b].encoders\n",
    "similarity = np.dot(encs, value)\n",
    "items = np.where(similarity>0.0)   # TODO: What is this threshold in the real data?\n",
    "print 'N= %d' % len(items[0])\n",
    "pylab.plot(sim.trange(), np.mean(ratesf[:,items[0]], axis=1))\n",
    "pylab.axvline(0.5)\n",
    "pylab.axvline(0.75)\n",
    "pylab.axvline(1.75)\n",
    "pylab.show()"
   ]
  },
  {
   "cell_type": "markdown",
   "metadata": {
    "collapsed": true
   },
   "source": [
    "That's not a perfect match, but pretty close!\n",
    "\n",
    "It'd be great to try to\n",
    "* use hyperopt to try to fit the empirical data better\n",
    "* do parameter exploration seeing how the different parameters affect the shape of the curve\n"
   ]
  }
 ],
 "metadata": {
  "kernelspec": {
   "display_name": "Python 2",
   "language": "python",
   "name": "python2"
  },
  "language_info": {
   "codemirror_mode": {
    "name": "ipython",
    "version": 2
   },
   "file_extension": ".py",
   "mimetype": "text/x-python",
   "name": "python",
   "nbconvert_exporter": "python",
   "pygments_lexer": "ipython2",
   "version": "2.7.5"
  }
 },
 "nbformat": 4,
 "nbformat_minor": 0
}
