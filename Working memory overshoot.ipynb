{
 "cells": [
  {
   "cell_type": "code",
   "execution_count": 2,
   "metadata": {
    "collapsed": true
   },
   "outputs": [],
   "source": [
    "%matplotlib inline\n",
    "import pylab\n",
    "import numpy as np\n",
    "import nengo\n",
    "import nengo.spa as spa\n"
   ]
  },
  {
   "cell_type": "code",
   "execution_count": 125,
   "metadata": {
    "collapsed": false
   },
   "outputs": [],
   "source": [
    "dimensions = 10\n",
    "input_scale = 1\n",
    "n_neurons_per_dim = 50\n",
    "intercept_low = -0.5\n",
    "intercept_high = 1.0\n",
    "tau_input = 0.01\n",
    "tau_recurrent = 0.1\n",
    "tau_reset = 0.2\n",
    "max_rate_high = 200\n",
    "max_rate_low = 150\n",
    "sensory_delay = 0.05\n",
    "reset_scale = 0.3\n",
    "\n",
    "model = nengo.Network()\n",
    "with model:\n",
    "    vocab = spa.Vocabulary(dimensions)\n",
    "    value = vocab.parse('A').v\n",
    "    \n",
    "    def stim(t):\n",
    "        if 0.5 < t - sensory_delay < 0.75:\n",
    "            return value\n",
    "        else:\n",
    "            return [0]*dimensions\n",
    "    stim = nengo.Node(stim)\n",
    "    \n",
    "    a = nengo.Ensemble(n_neurons=n_neurons_per_dim * dimensions,\n",
    "                       dimensions=dimensions,\n",
    "                       max_rates=nengo.dists.Uniform(max_rate_low, max_rate_high),\n",
    "                       intercepts=nengo.dists.Uniform(intercept_low, intercept_high))\n",
    "    \n",
    "    b = nengo.Ensemble(n_neurons=n_neurons_per_dim * dimensions,\n",
    "                       dimensions=dimensions,\n",
    "                       max_rates=nengo.dists.Uniform(max_rate_low, max_rate_high),\n",
    "                       intercepts=nengo.dists.Uniform(intercept_low, intercept_high))\n",
    "    \n",
    "    nengo.Connection(stim, a, synapse=None)\n",
    "    nengo.Connection(a, b, synapse=tau_input, transform=input_scale)\n",
    "    nengo.Connection(b, b, synapse=tau_recurrent)\n",
    "    \n",
    "    def reset(t):\n",
    "        if t - sensory_delay > 1.75:\n",
    "            return 1\n",
    "        else:\n",
    "            return 0\n",
    "    reset_stim = nengo.Node(reset)\n",
    "    reset_value = vocab.parse('B').v\n",
    "    reset_value.shape = dimensions, 1\n",
    "    nengo.Connection(reset_stim, b.neurons, transform=np.ones((b.n_neurons, 1))*-reset_scale, synapse=tau_reset)\n",
    "    #nengo.Connection(reset_stim, b, transform=reset_value*reset_scale, synapse=tau_reset)\n",
    "    \n",
    "    p_value = nengo.Probe(b, synapse=0.01)\n",
    "    p_neurons = nengo.Probe(b.neurons)"
   ]
  },
  {
   "cell_type": "code",
   "execution_count": 126,
   "metadata": {
    "collapsed": false
   },
   "outputs": [
    {
     "name": "stdout",
     "output_type": "stream",
     "text": [
      "Simulation finished in 0:00:05.                                                 \n"
     ]
    }
   ],
   "source": [
    "sim = nengo.Simulator(model)\n",
    "sim.run(2.5)"
   ]
  },
  {
   "cell_type": "code",
   "execution_count": 127,
   "metadata": {
    "collapsed": false
   },
   "outputs": [
    {
     "data": {
      "image/png": "[encoded data removed]",
      "text/plain": [
       "<matplotlib.figure.Figure at 0x17a7e588>"
      ]
     },
     "metadata": {},
     "output_type": "display_data"
    }
   ],
   "source": [
    "rates = sim.data[p_neurons]\n",
    "ratesf = nengo.synapses.Lowpass(0.05).filt(rates)\n",
    "\n",
    "pylab.plot(sim.trange(), np.mean(ratesf, axis=1))\n",
    "pylab.axvline(0.5)\n",
    "pylab.axvline(0.75)\n",
    "pylab.axvline(1.75)\n",
    "pylab.show()"
   ]
  },
  {
   "cell_type": "code",
   "execution_count": 136,
   "metadata": {
    "collapsed": false
   },
   "outputs": [
    {
     "name": "stdout",
     "output_type": "stream",
     "text": [
      "N= 246\n"
     ]
    },
    {
     "data": {
      "image/png": "[encoded data removed]",
      "text/plain": [
       "<matplotlib.figure.Figure at 0x1af10668>"
      ]
     },
     "metadata": {},
     "output_type": "display_data"
    }
   ],
   "source": [
    "encs = sim.data[b].encoders\n",
    "similarity = np.dot(encs, value)\n",
    "items = np.where(similarity>0.0)   # TODO: What is this threshold in the real data?\n",
    "print 'N= %d' % len(items[0])\n",
    "pylab.plot(sim.trange(), np.mean(ratesf[:,items[0]], axis=1))\n",
    "pylab.axvline(0.5)\n",
    "pylab.axvline(0.75)\n",
    "pylab.axvline(1.75)\n",
    "pylab.show()"
   ]
  },
  {
   "cell_type": "code",
   "execution_count": null,
   "metadata": {
    "collapsed": true
   },
   "outputs": [],
   "source": []
  },
  {
   "cell_type": "code",
   "execution_count": null,
   "metadata": {
    "collapsed": true
   },
   "outputs": [],
   "source": []
  }
 ],
 "metadata": {
  "kernelspec": {
   "display_name": "Python 2",
   "language": "python",
   "name": "python2"
  },
  "language_info": {
   "codemirror_mode": {
    "name": "ipython",
    "version": 2
   },
   "file_extension": ".py",
   "mimetype": "text/x-python",
   "name": "python",
   "nbconvert_exporter": "python",
   "pygments_lexer": "ipython2",
   "version": "2.7.5"
  }
 },
 "nbformat": 4,
 "nbformat_minor": 0
}
