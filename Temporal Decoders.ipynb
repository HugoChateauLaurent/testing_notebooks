{
 "cells": [
  {
   "cell_type": "code",
   "execution_count": 3,
   "metadata": {
    "collapsed": false
   },
   "outputs": [],
   "source": [
    "%matplotlib inline\n",
    "import pylab\n",
    "import seaborn\n",
    "import nengo\n",
    "import numpy as np\n",
    "import nengolib\n"
   ]
  },
  {
   "cell_type": "code",
   "execution_count": 127,
   "metadata": {
    "collapsed": false
   },
   "outputs": [],
   "source": [
    "def target_func(t):\n",
    "    t = (t+0.95) % 1.0\n",
    "    \n",
    "    if 0<t<0.05:\n",
    "        return [1,0,0,0]\n",
    "    elif 0.1<t<0.15:\n",
    "        return [0,1,0,0]\n",
    "    elif 0.2<t<0.25:\n",
    "        return [0,0,1,0]\n",
    "    elif 0.3<t<0.35:\n",
    "        return [0,0,0,1]\n",
    "    else:\n",
    "        return [0,0,0,0]\n",
    "\n",
    "import os\n",
    "class TemporalDecoder(object):\n",
    "    def __init__(self, network, seed=None):\n",
    "        self.network = network\n",
    "        self.set_seed(seed)\n",
    "    def set_seed(self, seed):\n",
    "        self.seed = seed\n",
    "        rng = np.random.RandomState(seed=seed)\n",
    "        for ens in self.network.all_ensembles:\n",
    "            ens.seed = rng.randint(0x7FFFFFFF)\n",
    "    def decode(self, post, stim_time, target_func, \n",
    "               filename=None,\n",
    "               stim_node=None, stim_func=None, \n",
    "               synapse=nengo.Lowpass(0.005), \n",
    "               solver=nengo.solvers.LstsqL2()):\n",
    "        decoder = None\n",
    "        fn = None\n",
    "        if filename is not None and self.seed is not None:\n",
    "            fn = '%s-%08x.npy'\n",
    "            if os.path.exists(fn):\n",
    "                decoder = np.load(fn)\n",
    "        if decoder is None:\n",
    "            decoder = self.compute_decoder(stim_time, target_func, synapse, solver,\n",
    "                                            stim_node, stim_func)            \n",
    "            \n",
    "        if fn is not None:\n",
    "            np.save(fn, decoder)\n",
    "            \n",
    "        offset = 0\n",
    "        for i, ens in enumerate(self.network.all_ensembles):\n",
    "            n = ens.n_neurons\n",
    "            nengo.Connection(ens.neurons, post, transform=decoder[offset:offset+n,:].T)\n",
    "            offset += n\n",
    "\n",
    "    def compute_decoder(self, stim_time, target_func, synapse, solver, stim_node=None, stim_func=None):\n",
    "        model = nengo.Network(add_to_container=False)\n",
    "        model.networks.append(self.network)\n",
    "        with model:\n",
    "            if stim_func is not None:\n",
    "                if stim_node is None:\n",
    "                    stim_node = getattr(self.network, 'input')\n",
    "                stim = nengo.Node(stim_func)    \n",
    "                nengo.Connection(stim, stim_node, synapse=None)\n",
    "            probes = []\n",
    "            for ens in model.all_ensembles:\n",
    "                probes.append(nengo.Probe(ens.neurons))\n",
    "        sim = nengo.simulator.Simulator(model)\n",
    "        sim.run(stim_time)\n",
    "        data = [sim.data[p] for p in probes]\n",
    "        \n",
    "        data = np.hstack(data)\n",
    "        target = np.array([target_func(t) for t in sim.trange()], dtype=float)\n",
    "        \n",
    "        data = synapse.filt(data, y0=0)\n",
    "        target = synapse.filt(target, y0=0, dt=0.001)\n",
    "        decoder, solver_info = solver(data, target)\n",
    "        \n",
    "        return decoder\n",
    "                \n",
    "            \n",
    "    \n",
    "    \n",
    "model = nengo.Network()\n",
    "with model:\n",
    "    delay = 0.5\n",
    "    dt = 0.001\n",
    "    subnet = nengolib.networks.LinearNetwork(\n",
    "        nengolib.synapses.PureDelay(delay, order=8), n_neurons=200, synapse=0.02,\n",
    "        radii=0.1, dt=dt, output_synapse=0.02)\n",
    "    \n",
    "    stim = nengo.Node(lambda t: 1 if t%1.0<0.05 else 0)    \n",
    "    nengo.Connection(stim, subnet.input)\n",
    "    \n",
    "    post = nengo.Ensemble(n_neurons=200, dimensions=4)\n",
    "    \n",
    "    temporal = TemporalDecoder(subnet, seed=1)\n",
    "    temporal.decode(post, filename='t1', stim_time=5.0, stim_node=subnet.input, stim_func=lambda t: 1 if t%1.0<0.05 else 0,\n",
    "                    target_func=target_func)\n",
    "    \n",
    "    "
   ]
  },
  {
   "cell_type": "code",
   "execution_count": 128,
   "metadata": {
    "collapsed": true
   },
   "outputs": [],
   "source": [
    "with model:\n",
    "    p = nengo.Probe(post, synapse=0.01)"
   ]
  },
  {
   "cell_type": "code",
   "execution_count": 129,
   "metadata": {
    "collapsed": false
   },
   "outputs": [
    {
     "name": "stdout",
     "output_type": "stream",
     "text": [
      "Building finished in 0:00:01.                                                   \n",
      "Simulating finished in 0:00:04.                                                 \n"
     ]
    }
   ],
   "source": [
    "sim = nengo.Simulator(model)\n",
    "sim.run(2)"
   ]
  },
  {
   "cell_type": "code",
   "execution_count": 130,
   "metadata": {
    "collapsed": false
   },
   "outputs": [
    {
     "data": {
      "text/plain": [
       "[<matplotlib.lines.Line2D at 0x2a9501d0>,\n",
       " <matplotlib.lines.Line2D at 0x287c4160>,\n",
       " <matplotlib.lines.Line2D at 0x287c4358>,\n",
       " <matplotlib.lines.Line2D at 0x287c44e0>]"
      ]
     },
     "execution_count": 130,
     "metadata": {},
     "output_type": "execute_result"
    },
    {
     "data": {
      "image/png": "[encoded data removed]",
      "text/plain": [
       "<matplotlib.figure.Figure at 0x287ac898>"
      ]
     },
     "metadata": {},
     "output_type": "display_data"
    }
   ],
   "source": [
    "pylab.plot(sim.trange(), sim.data[p])\n"
   ]
  },
  {
   "cell_type": "code",
   "execution_count": null,
   "metadata": {
    "collapsed": true
   },
   "outputs": [],
   "source": []
  }
 ],
 "metadata": {
  "kernelspec": {
   "display_name": "Python 2",
   "language": "python",
   "name": "python2"
  },
  "language_info": {
   "codemirror_mode": {
    "name": "ipython",
    "version": 2
   },
   "file_extension": ".py",
   "mimetype": "text/x-python",
   "name": "python",
   "nbconvert_exporter": "python",
   "pygments_lexer": "ipython2",
   "version": "2.7.5"
  }
 },
 "nbformat": 4,
 "nbformat_minor": 0
}
